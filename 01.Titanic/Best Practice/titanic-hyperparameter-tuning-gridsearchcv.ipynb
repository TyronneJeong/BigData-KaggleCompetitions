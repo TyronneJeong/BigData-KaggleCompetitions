{
 "cells": [
  {
   "cell_type": "markdown",
   "id": "e7a975f1",
   "metadata": {
    "papermill": {
     "duration": 0.029115,
     "end_time": "2021-12-01T22:00:44.369934",
     "exception": false,
     "start_time": "2021-12-01T22:00:44.340819",
     "status": "completed"
    },
    "tags": []
   },
   "source": [
    "# 1. Importing libraries and loading datasets"
   ]
  },
  {
   "cell_type": "code",
   "execution_count": 1,
   "id": "9f9538d6",
   "metadata": {
    "_kg_hide-input": true,
    "execution": {
     "iopub.execute_input": "2021-12-01T22:00:44.432463Z",
     "iopub.status.busy": "2021-12-01T22:00:44.431800Z",
     "iopub.status.idle": "2021-12-01T22:00:45.501099Z",
     "shell.execute_reply": "2021-12-01T22:00:45.500057Z",
     "shell.execute_reply.started": "2021-12-01T21:22:14.379601Z"
    },
    "papermill": {
     "duration": 1.105713,
     "end_time": "2021-12-01T22:00:45.501277",
     "exception": false,
     "start_time": "2021-12-01T22:00:44.395564",
     "status": "completed"
    },
    "tags": []
   },
   "outputs": [],
   "source": [
    "import numpy as np\n",
    "import pandas as pd\n",
    "\n",
    "# Modelling\n",
    "from sklearn.model_selection import RepeatedStratifiedKFold\n",
    "from sklearn.model_selection import train_test_split\n",
    "from sklearn.model_selection import GridSearchCV\n",
    "from sklearn.metrics import accuracy_score\n",
    "\n",
    "# Logistic Regression\n",
    "from sklearn.linear_model import LogisticRegression\n",
    "\n",
    "# Naive Bayes\n",
    "from sklearn.naive_bayes import GaussianNB\n",
    "from sklearn.naive_bayes import MultinomialNB\n",
    "from sklearn.naive_bayes import ComplementNB\n",
    "from sklearn.naive_bayes import BernoulliNB\n",
    "from sklearn.naive_bayes import CategoricalNB\n",
    "\n",
    "# KNeighbors\n",
    "from sklearn.neighbors import KNeighborsClassifier\n",
    "\n",
    "# Decision Tree\n",
    "from sklearn.tree import DecisionTreeClassifier\n",
    "\n",
    "# Random Forest\n",
    "from sklearn.ensemble import RandomForestClassifier"
   ]
  },
  {
   "cell_type": "code",
   "execution_count": 2,
   "id": "fffad9f4",
   "metadata": {
    "execution": {
     "iopub.execute_input": "2021-12-01T22:00:45.556886Z",
     "iopub.status.busy": "2021-12-01T22:00:45.556246Z",
     "iopub.status.idle": "2021-12-01T22:00:45.585689Z",
     "shell.execute_reply": "2021-12-01T22:00:45.586238Z",
     "shell.execute_reply.started": "2021-12-01T21:22:15.447484Z"
    },
    "papermill": {
     "duration": 0.059749,
     "end_time": "2021-12-01T22:00:45.586414",
     "exception": false,
     "start_time": "2021-12-01T22:00:45.526665",
     "status": "completed"
    },
    "tags": []
   },
   "outputs": [],
   "source": [
    "train_data = pd.read_csv('../input/titanic/train.csv')\n",
    "test_data = pd.read_csv('../input/titanic/test.csv')"
   ]
  },
  {
   "cell_type": "markdown",
   "id": "7f2af582",
   "metadata": {
    "papermill": {
     "duration": 0.025022,
     "end_time": "2021-12-01T22:00:45.636788",
     "exception": false,
     "start_time": "2021-12-01T22:00:45.611766",
     "status": "completed"
    },
    "tags": []
   },
   "source": [
    "# 2. Explore data"
   ]
  },
  {
   "cell_type": "code",
   "execution_count": 3,
   "id": "0edf93eb",
   "metadata": {
    "_kg_hide-input": true,
    "execution": {
     "iopub.execute_input": "2021-12-01T22:00:45.700439Z",
     "iopub.status.busy": "2021-12-01T22:00:45.699716Z",
     "iopub.status.idle": "2021-12-01T22:00:45.846951Z",
     "shell.execute_reply": "2021-12-01T22:00:45.847430Z",
     "shell.execute_reply.started": "2021-12-01T21:22:15.481475Z"
    },
    "papermill": {
     "duration": 0.182716,
     "end_time": "2021-12-01T22:00:45.847594",
     "exception": false,
     "start_time": "2021-12-01T22:00:45.664878",
     "status": "completed"
    },
    "tags": []
   },
   "outputs": [
    {
     "data": {
      "text/html": [
       "<div>\n",
       "<style scoped>\n",
       "    .dataframe tbody tr th:only-of-type {\n",
       "        vertical-align: middle;\n",
       "    }\n",
       "\n",
       "    .dataframe tbody tr th {\n",
       "        vertical-align: top;\n",
       "    }\n",
       "\n",
       "    .dataframe thead th {\n",
       "        text-align: right;\n",
       "    }\n",
       "</style>\n",
       "<table border=\"1\" class=\"dataframe\">\n",
       "  <thead>\n",
       "    <tr style=\"text-align: right;\">\n",
       "      <th></th>\n",
       "      <th>PassengerId</th>\n",
       "      <th>Survived</th>\n",
       "      <th>Pclass</th>\n",
       "      <th>Name</th>\n",
       "      <th>Sex</th>\n",
       "      <th>Age</th>\n",
       "      <th>SibSp</th>\n",
       "      <th>Parch</th>\n",
       "      <th>Ticket</th>\n",
       "      <th>Fare</th>\n",
       "      <th>Cabin</th>\n",
       "      <th>Embarked</th>\n",
       "    </tr>\n",
       "  </thead>\n",
       "  <tbody>\n",
       "    <tr>\n",
       "      <th>0</th>\n",
       "      <td>1</td>\n",
       "      <td>0</td>\n",
       "      <td>3</td>\n",
       "      <td>Braund, Mr. Owen Harris</td>\n",
       "      <td>male</td>\n",
       "      <td>22.0</td>\n",
       "      <td>1</td>\n",
       "      <td>0</td>\n",
       "      <td>A/5 21171</td>\n",
       "      <td>7.2500</td>\n",
       "      <td>NaN</td>\n",
       "      <td>S</td>\n",
       "    </tr>\n",
       "    <tr>\n",
       "      <th>1</th>\n",
       "      <td>2</td>\n",
       "      <td>1</td>\n",
       "      <td>1</td>\n",
       "      <td>Cumings, Mrs. John Bradley (Florence Briggs Th...</td>\n",
       "      <td>female</td>\n",
       "      <td>38.0</td>\n",
       "      <td>1</td>\n",
       "      <td>0</td>\n",
       "      <td>PC 17599</td>\n",
       "      <td>71.2833</td>\n",
       "      <td>C85</td>\n",
       "      <td>C</td>\n",
       "    </tr>\n",
       "    <tr>\n",
       "      <th>2</th>\n",
       "      <td>3</td>\n",
       "      <td>1</td>\n",
       "      <td>3</td>\n",
       "      <td>Heikkinen, Miss. Laina</td>\n",
       "      <td>female</td>\n",
       "      <td>26.0</td>\n",
       "      <td>0</td>\n",
       "      <td>0</td>\n",
       "      <td>STON/O2. 3101282</td>\n",
       "      <td>7.9250</td>\n",
       "      <td>NaN</td>\n",
       "      <td>S</td>\n",
       "    </tr>\n",
       "    <tr>\n",
       "      <th>3</th>\n",
       "      <td>4</td>\n",
       "      <td>1</td>\n",
       "      <td>1</td>\n",
       "      <td>Futrelle, Mrs. Jacques Heath (Lily May Peel)</td>\n",
       "      <td>female</td>\n",
       "      <td>35.0</td>\n",
       "      <td>1</td>\n",
       "      <td>0</td>\n",
       "      <td>113803</td>\n",
       "      <td>53.1000</td>\n",
       "      <td>C123</td>\n",
       "      <td>S</td>\n",
       "    </tr>\n",
       "    <tr>\n",
       "      <th>4</th>\n",
       "      <td>5</td>\n",
       "      <td>0</td>\n",
       "      <td>3</td>\n",
       "      <td>Allen, Mr. William Henry</td>\n",
       "      <td>male</td>\n",
       "      <td>35.0</td>\n",
       "      <td>0</td>\n",
       "      <td>0</td>\n",
       "      <td>373450</td>\n",
       "      <td>8.0500</td>\n",
       "      <td>NaN</td>\n",
       "      <td>S</td>\n",
       "    </tr>\n",
       "    <tr>\n",
       "      <th>...</th>\n",
       "      <td>...</td>\n",
       "      <td>...</td>\n",
       "      <td>...</td>\n",
       "      <td>...</td>\n",
       "      <td>...</td>\n",
       "      <td>...</td>\n",
       "      <td>...</td>\n",
       "      <td>...</td>\n",
       "      <td>...</td>\n",
       "      <td>...</td>\n",
       "      <td>...</td>\n",
       "      <td>...</td>\n",
       "    </tr>\n",
       "    <tr>\n",
       "      <th>886</th>\n",
       "      <td>887</td>\n",
       "      <td>0</td>\n",
       "      <td>2</td>\n",
       "      <td>Montvila, Rev. Juozas</td>\n",
       "      <td>male</td>\n",
       "      <td>27.0</td>\n",
       "      <td>0</td>\n",
       "      <td>0</td>\n",
       "      <td>211536</td>\n",
       "      <td>13.0000</td>\n",
       "      <td>NaN</td>\n",
       "      <td>S</td>\n",
       "    </tr>\n",
       "    <tr>\n",
       "      <th>887</th>\n",
       "      <td>888</td>\n",
       "      <td>1</td>\n",
       "      <td>1</td>\n",
       "      <td>Graham, Miss. Margaret Edith</td>\n",
       "      <td>female</td>\n",
       "      <td>19.0</td>\n",
       "      <td>0</td>\n",
       "      <td>0</td>\n",
       "      <td>112053</td>\n",
       "      <td>30.0000</td>\n",
       "      <td>B42</td>\n",
       "      <td>S</td>\n",
       "    </tr>\n",
       "    <tr>\n",
       "      <th>888</th>\n",
       "      <td>889</td>\n",
       "      <td>0</td>\n",
       "      <td>3</td>\n",
       "      <td>Johnston, Miss. Catherine Helen \"Carrie\"</td>\n",
       "      <td>female</td>\n",
       "      <td>NaN</td>\n",
       "      <td>1</td>\n",
       "      <td>2</td>\n",
       "      <td>W./C. 6607</td>\n",
       "      <td>23.4500</td>\n",
       "      <td>NaN</td>\n",
       "      <td>S</td>\n",
       "    </tr>\n",
       "    <tr>\n",
       "      <th>889</th>\n",
       "      <td>890</td>\n",
       "      <td>1</td>\n",
       "      <td>1</td>\n",
       "      <td>Behr, Mr. Karl Howell</td>\n",
       "      <td>male</td>\n",
       "      <td>26.0</td>\n",
       "      <td>0</td>\n",
       "      <td>0</td>\n",
       "      <td>111369</td>\n",
       "      <td>30.0000</td>\n",
       "      <td>C148</td>\n",
       "      <td>C</td>\n",
       "    </tr>\n",
       "    <tr>\n",
       "      <th>890</th>\n",
       "      <td>891</td>\n",
       "      <td>0</td>\n",
       "      <td>3</td>\n",
       "      <td>Dooley, Mr. Patrick</td>\n",
       "      <td>male</td>\n",
       "      <td>32.0</td>\n",
       "      <td>0</td>\n",
       "      <td>0</td>\n",
       "      <td>370376</td>\n",
       "      <td>7.7500</td>\n",
       "      <td>NaN</td>\n",
       "      <td>Q</td>\n",
       "    </tr>\n",
       "  </tbody>\n",
       "</table>\n",
       "<p>891 rows × 12 columns</p>\n",
       "</div>"
      ],
      "text/plain": [
       "     PassengerId  Survived  Pclass  \\\n",
       "0              1         0       3   \n",
       "1              2         1       1   \n",
       "2              3         1       3   \n",
       "3              4         1       1   \n",
       "4              5         0       3   \n",
       "..           ...       ...     ...   \n",
       "886          887         0       2   \n",
       "887          888         1       1   \n",
       "888          889         0       3   \n",
       "889          890         1       1   \n",
       "890          891         0       3   \n",
       "\n",
       "                                                  Name     Sex   Age  SibSp  \\\n",
       "0                              Braund, Mr. Owen Harris    male  22.0      1   \n",
       "1    Cumings, Mrs. John Bradley (Florence Briggs Th...  female  38.0      1   \n",
       "2                               Heikkinen, Miss. Laina  female  26.0      0   \n",
       "3         Futrelle, Mrs. Jacques Heath (Lily May Peel)  female  35.0      1   \n",
       "4                             Allen, Mr. William Henry    male  35.0      0   \n",
       "..                                                 ...     ...   ...    ...   \n",
       "886                              Montvila, Rev. Juozas    male  27.0      0   \n",
       "887                       Graham, Miss. Margaret Edith  female  19.0      0   \n",
       "888           Johnston, Miss. Catherine Helen \"Carrie\"  female   NaN      1   \n",
       "889                              Behr, Mr. Karl Howell    male  26.0      0   \n",
       "890                                Dooley, Mr. Patrick    male  32.0      0   \n",
       "\n",
       "     Parch            Ticket     Fare Cabin Embarked  \n",
       "0        0         A/5 21171   7.2500   NaN        S  \n",
       "1        0          PC 17599  71.2833   C85        C  \n",
       "2        0  STON/O2. 3101282   7.9250   NaN        S  \n",
       "3        0            113803  53.1000  C123        S  \n",
       "4        0            373450   8.0500   NaN        S  \n",
       "..     ...               ...      ...   ...      ...  \n",
       "886      0            211536  13.0000   NaN        S  \n",
       "887      0            112053  30.0000   B42        S  \n",
       "888      2        W./C. 6607  23.4500   NaN        S  \n",
       "889      0            111369  30.0000  C148        C  \n",
       "890      0            370376   7.7500   NaN        Q  \n",
       "\n",
       "[891 rows x 12 columns]"
      ]
     },
     "execution_count": 3,
     "metadata": {},
     "output_type": "execute_result"
    }
   ],
   "source": [
    "train_data"
   ]
  },
  {
   "cell_type": "code",
   "execution_count": 4,
   "id": "35199bef",
   "metadata": {
    "_kg_hide-input": true,
    "execution": {
     "iopub.execute_input": "2021-12-01T22:00:45.903245Z",
     "iopub.status.busy": "2021-12-01T22:00:45.902561Z",
     "iopub.status.idle": "2021-12-01T22:00:45.937142Z",
     "shell.execute_reply": "2021-12-01T22:00:45.937680Z",
     "shell.execute_reply.started": "2021-12-01T21:22:15.626069Z"
    },
    "papermill": {
     "duration": 0.063804,
     "end_time": "2021-12-01T22:00:45.937845",
     "exception": false,
     "start_time": "2021-12-01T22:00:45.874041",
     "status": "completed"
    },
    "tags": []
   },
   "outputs": [
    {
     "data": {
      "text/html": [
       "<div>\n",
       "<style scoped>\n",
       "    .dataframe tbody tr th:only-of-type {\n",
       "        vertical-align: middle;\n",
       "    }\n",
       "\n",
       "    .dataframe tbody tr th {\n",
       "        vertical-align: top;\n",
       "    }\n",
       "\n",
       "    .dataframe thead th {\n",
       "        text-align: right;\n",
       "    }\n",
       "</style>\n",
       "<table border=\"1\" class=\"dataframe\">\n",
       "  <thead>\n",
       "    <tr style=\"text-align: right;\">\n",
       "      <th></th>\n",
       "      <th>PassengerId</th>\n",
       "      <th>Survived</th>\n",
       "      <th>Pclass</th>\n",
       "      <th>Age</th>\n",
       "      <th>SibSp</th>\n",
       "      <th>Parch</th>\n",
       "      <th>Fare</th>\n",
       "    </tr>\n",
       "  </thead>\n",
       "  <tbody>\n",
       "    <tr>\n",
       "      <th>count</th>\n",
       "      <td>891.000000</td>\n",
       "      <td>891.000000</td>\n",
       "      <td>891.000000</td>\n",
       "      <td>714.000000</td>\n",
       "      <td>891.000000</td>\n",
       "      <td>891.000000</td>\n",
       "      <td>891.000000</td>\n",
       "    </tr>\n",
       "    <tr>\n",
       "      <th>mean</th>\n",
       "      <td>446.000000</td>\n",
       "      <td>0.383838</td>\n",
       "      <td>2.308642</td>\n",
       "      <td>29.699118</td>\n",
       "      <td>0.523008</td>\n",
       "      <td>0.381594</td>\n",
       "      <td>32.204208</td>\n",
       "    </tr>\n",
       "    <tr>\n",
       "      <th>std</th>\n",
       "      <td>257.353842</td>\n",
       "      <td>0.486592</td>\n",
       "      <td>0.836071</td>\n",
       "      <td>14.526497</td>\n",
       "      <td>1.102743</td>\n",
       "      <td>0.806057</td>\n",
       "      <td>49.693429</td>\n",
       "    </tr>\n",
       "    <tr>\n",
       "      <th>min</th>\n",
       "      <td>1.000000</td>\n",
       "      <td>0.000000</td>\n",
       "      <td>1.000000</td>\n",
       "      <td>0.420000</td>\n",
       "      <td>0.000000</td>\n",
       "      <td>0.000000</td>\n",
       "      <td>0.000000</td>\n",
       "    </tr>\n",
       "    <tr>\n",
       "      <th>25%</th>\n",
       "      <td>223.500000</td>\n",
       "      <td>0.000000</td>\n",
       "      <td>2.000000</td>\n",
       "      <td>20.125000</td>\n",
       "      <td>0.000000</td>\n",
       "      <td>0.000000</td>\n",
       "      <td>7.910400</td>\n",
       "    </tr>\n",
       "    <tr>\n",
       "      <th>50%</th>\n",
       "      <td>446.000000</td>\n",
       "      <td>0.000000</td>\n",
       "      <td>3.000000</td>\n",
       "      <td>28.000000</td>\n",
       "      <td>0.000000</td>\n",
       "      <td>0.000000</td>\n",
       "      <td>14.454200</td>\n",
       "    </tr>\n",
       "    <tr>\n",
       "      <th>75%</th>\n",
       "      <td>668.500000</td>\n",
       "      <td>1.000000</td>\n",
       "      <td>3.000000</td>\n",
       "      <td>38.000000</td>\n",
       "      <td>1.000000</td>\n",
       "      <td>0.000000</td>\n",
       "      <td>31.000000</td>\n",
       "    </tr>\n",
       "    <tr>\n",
       "      <th>max</th>\n",
       "      <td>891.000000</td>\n",
       "      <td>1.000000</td>\n",
       "      <td>3.000000</td>\n",
       "      <td>80.000000</td>\n",
       "      <td>8.000000</td>\n",
       "      <td>6.000000</td>\n",
       "      <td>512.329200</td>\n",
       "    </tr>\n",
       "  </tbody>\n",
       "</table>\n",
       "</div>"
      ],
      "text/plain": [
       "       PassengerId    Survived      Pclass         Age       SibSp  \\\n",
       "count   891.000000  891.000000  891.000000  714.000000  891.000000   \n",
       "mean    446.000000    0.383838    2.308642   29.699118    0.523008   \n",
       "std     257.353842    0.486592    0.836071   14.526497    1.102743   \n",
       "min       1.000000    0.000000    1.000000    0.420000    0.000000   \n",
       "25%     223.500000    0.000000    2.000000   20.125000    0.000000   \n",
       "50%     446.000000    0.000000    3.000000   28.000000    0.000000   \n",
       "75%     668.500000    1.000000    3.000000   38.000000    1.000000   \n",
       "max     891.000000    1.000000    3.000000   80.000000    8.000000   \n",
       "\n",
       "            Parch        Fare  \n",
       "count  891.000000  891.000000  \n",
       "mean     0.381594   32.204208  \n",
       "std      0.806057   49.693429  \n",
       "min      0.000000    0.000000  \n",
       "25%      0.000000    7.910400  \n",
       "50%      0.000000   14.454200  \n",
       "75%      0.000000   31.000000  \n",
       "max      6.000000  512.329200  "
      ]
     },
     "execution_count": 4,
     "metadata": {},
     "output_type": "execute_result"
    }
   ],
   "source": [
    "train_data.describe()"
   ]
  },
  {
   "cell_type": "code",
   "execution_count": 5,
   "id": "58b35c92",
   "metadata": {
    "_kg_hide-input": true,
    "execution": {
     "iopub.execute_input": "2021-12-01T22:00:45.994081Z",
     "iopub.status.busy": "2021-12-01T22:00:45.993452Z",
     "iopub.status.idle": "2021-12-01T22:00:45.998382Z",
     "shell.execute_reply": "2021-12-01T22:00:45.998858Z",
     "shell.execute_reply.started": "2021-12-01T21:22:15.667873Z"
    },
    "papermill": {
     "duration": 0.034743,
     "end_time": "2021-12-01T22:00:45.999039",
     "exception": false,
     "start_time": "2021-12-01T22:00:45.964296",
     "status": "completed"
    },
    "tags": []
   },
   "outputs": [
    {
     "name": "stdout",
     "output_type": "stream",
     "text": [
      "Columns: \n",
      "['PassengerId', 'Survived', 'Pclass', 'Name', 'Sex', 'Age', 'SibSp', 'Parch', 'Ticket', 'Fare', 'Cabin', 'Embarked'] \n"
     ]
    }
   ],
   "source": [
    "print(\"Columns: \\n{0} \".format(train_data.columns.tolist()))"
   ]
  },
  {
   "cell_type": "markdown",
   "id": "b4ada8a9",
   "metadata": {
    "papermill": {
     "duration": 0.027047,
     "end_time": "2021-12-01T22:00:46.053542",
     "exception": false,
     "start_time": "2021-12-01T22:00:46.026495",
     "status": "completed"
    },
    "tags": []
   },
   "source": [
    "# 3. Basic data check"
   ]
  },
  {
   "cell_type": "markdown",
   "id": "57735673",
   "metadata": {
    "papermill": {
     "duration": 0.027023,
     "end_time": "2021-12-01T22:00:46.107332",
     "exception": false,
     "start_time": "2021-12-01T22:00:46.080309",
     "status": "completed"
    },
    "tags": []
   },
   "source": [
    "## Missing values"
   ]
  },
  {
   "cell_type": "code",
   "execution_count": 6,
   "id": "64269e0d",
   "metadata": {
    "_kg_hide-input": true,
    "execution": {
     "iopub.execute_input": "2021-12-01T22:00:46.168075Z",
     "iopub.status.busy": "2021-12-01T22:00:46.167408Z",
     "iopub.status.idle": "2021-12-01T22:00:46.170497Z",
     "shell.execute_reply": "2021-12-01T22:00:46.171006Z",
     "shell.execute_reply.started": "2021-12-01T21:22:15.673555Z"
    },
    "papermill": {
     "duration": 0.037355,
     "end_time": "2021-12-01T22:00:46.171193",
     "exception": false,
     "start_time": "2021-12-01T22:00:46.133838",
     "status": "completed"
    },
    "tags": []
   },
   "outputs": [
    {
     "name": "stdout",
     "output_type": "stream",
     "text": [
      "Columns which have missing values: \n",
      "['Age', 'Cabin', 'Embarked']\n"
     ]
    }
   ],
   "source": [
    "missing_values = train_data.isna().any()\n",
    "print('Columns which have missing values: \\n{0}'.format(missing_values[missing_values == True].index.tolist()))"
   ]
  },
  {
   "cell_type": "code",
   "execution_count": 7,
   "id": "8b9cc20f",
   "metadata": {
    "_kg_hide-input": true,
    "execution": {
     "iopub.execute_input": "2021-12-01T22:00:46.228992Z",
     "iopub.status.busy": "2021-12-01T22:00:46.228140Z",
     "iopub.status.idle": "2021-12-01T22:00:46.235973Z",
     "shell.execute_reply": "2021-12-01T22:00:46.235423Z",
     "shell.execute_reply.started": "2021-12-01T21:22:15.690061Z"
    },
    "papermill": {
     "duration": 0.038081,
     "end_time": "2021-12-01T22:00:46.236108",
     "exception": false,
     "start_time": "2021-12-01T22:00:46.198027",
     "status": "completed"
    },
    "tags": []
   },
   "outputs": [
    {
     "name": "stdout",
     "output_type": "stream",
     "text": [
      "Percentage of missing values in `Age` column: 19.87\n",
      "Percentage of missing values in `Cabin` column: 77.10\n",
      "Percentage of missing values in `Embarked` column: 0.22\n"
     ]
    }
   ],
   "source": [
    "print(\"Percentage of missing values in `Age` column: {0:.2f}\".format(100.*(train_data.Age.isna().sum()/len(train_data))))\n",
    "print(\"Percentage of missing values in `Cabin` column: {0:.2f}\".format(100.*(train_data.Cabin.isna().sum()/len(train_data))))\n",
    "print(\"Percentage of missing values in `Embarked` column: {0:.2f}\".format(100.*(train_data.Embarked.isna().sum()/len(train_data))))"
   ]
  },
  {
   "cell_type": "markdown",
   "id": "82206fbf",
   "metadata": {
    "papermill": {
     "duration": 0.026754,
     "end_time": "2021-12-01T22:00:46.290240",
     "exception": false,
     "start_time": "2021-12-01T22:00:46.263486",
     "status": "completed"
    },
    "tags": []
   },
   "source": [
    "## Check for duplicates"
   ]
  },
  {
   "cell_type": "code",
   "execution_count": 8,
   "id": "346dab01",
   "metadata": {
    "_kg_hide-input": true,
    "execution": {
     "iopub.execute_input": "2021-12-01T22:00:46.348994Z",
     "iopub.status.busy": "2021-12-01T22:00:46.348337Z",
     "iopub.status.idle": "2021-12-01T22:00:46.360171Z",
     "shell.execute_reply": "2021-12-01T22:00:46.359631Z",
     "shell.execute_reply.started": "2021-12-01T21:22:15.704395Z"
    },
    "papermill": {
     "duration": 0.042845,
     "end_time": "2021-12-01T22:00:46.360314",
     "exception": false,
     "start_time": "2021-12-01T22:00:46.317469",
     "status": "completed"
    },
    "tags": []
   },
   "outputs": [
    {
     "name": "stdout",
     "output_type": "stream",
     "text": [
      "Duplicates in train data: 0\n"
     ]
    }
   ],
   "source": [
    "duplicates = train_data.duplicated().sum()\n",
    "print('Duplicates in train data: {0}'.format(duplicates))"
   ]
  },
  {
   "cell_type": "markdown",
   "id": "d3390cbe",
   "metadata": {
    "papermill": {
     "duration": 0.027221,
     "end_time": "2021-12-01T22:00:46.415359",
     "exception": false,
     "start_time": "2021-12-01T22:00:46.388138",
     "status": "completed"
    },
    "tags": []
   },
   "source": [
    "## Categorical variables"
   ]
  },
  {
   "cell_type": "code",
   "execution_count": 9,
   "id": "572e27a2",
   "metadata": {
    "_kg_hide-input": true,
    "execution": {
     "iopub.execute_input": "2021-12-01T22:00:46.476375Z",
     "iopub.status.busy": "2021-12-01T22:00:46.475703Z",
     "iopub.status.idle": "2021-12-01T22:00:46.483293Z",
     "shell.execute_reply": "2021-12-01T22:00:46.482413Z",
     "shell.execute_reply.started": "2021-12-01T21:22:15.719430Z"
    },
    "papermill": {
     "duration": 0.039489,
     "end_time": "2021-12-01T22:00:46.483484",
     "exception": false,
     "start_time": "2021-12-01T22:00:46.443995",
     "status": "completed"
    },
    "tags": []
   },
   "outputs": [
    {
     "name": "stdout",
     "output_type": "stream",
     "text": [
      "Categorical variables in train data: \n",
      "Survived         2\n",
      "Sex              2\n",
      "Pclass           3\n",
      "Embarked         3\n",
      "SibSp            7\n",
      "Parch            7\n",
      "Age             88\n",
      "Cabin          147\n",
      "Fare           248\n",
      "Ticket         681\n",
      "PassengerId    891\n",
      "Name           891\n",
      "dtype: int64\n"
     ]
    }
   ],
   "source": [
    "categorical = train_data.nunique().sort_values(ascending=True)\n",
    "print('Categorical variables in train data: \\n{0}'.format(categorical))"
   ]
  },
  {
   "cell_type": "markdown",
   "id": "bbe8a820",
   "metadata": {
    "papermill": {
     "duration": 0.083804,
     "end_time": "2021-12-01T22:00:46.596235",
     "exception": false,
     "start_time": "2021-12-01T22:00:46.512431",
     "status": "completed"
    },
    "tags": []
   },
   "source": [
    "# 4. Data cleaning"
   ]
  },
  {
   "cell_type": "code",
   "execution_count": 10,
   "id": "9544db11",
   "metadata": {
    "execution": {
     "iopub.execute_input": "2021-12-01T22:00:46.662848Z",
     "iopub.status.busy": "2021-12-01T22:00:46.659067Z",
     "iopub.status.idle": "2021-12-01T22:00:46.664633Z",
     "shell.execute_reply": "2021-12-01T22:00:46.665139Z",
     "shell.execute_reply.started": "2021-12-01T21:22:15.729530Z"
    },
    "papermill": {
     "duration": 0.040484,
     "end_time": "2021-12-01T22:00:46.665307",
     "exception": false,
     "start_time": "2021-12-01T22:00:46.624823",
     "status": "completed"
    },
    "tags": []
   },
   "outputs": [],
   "source": [
    "def clean_data(data):\n",
    "    # Too many missing values\n",
    "    data.drop(['Cabin'], axis=1, inplace=True)\n",
    "    \n",
    "    # Probably will not provide some useful information\n",
    "    data.drop(['Name', 'Ticket', 'Fare', 'Embarked'], axis=1, inplace=True)\n",
    "    \n",
    "    return data\n",
    "    \n",
    "train_data = clean_data(train_data)\n",
    "test_data = clean_data(test_data)"
   ]
  },
  {
   "cell_type": "code",
   "execution_count": 11,
   "id": "5eba8e4e",
   "metadata": {
    "execution": {
     "iopub.execute_input": "2021-12-01T22:00:46.736667Z",
     "iopub.status.busy": "2021-12-01T22:00:46.735689Z",
     "iopub.status.idle": "2021-12-01T22:00:46.740230Z",
     "shell.execute_reply": "2021-12-01T22:00:46.740930Z",
     "shell.execute_reply.started": "2021-12-01T21:22:15.744029Z"
    },
    "papermill": {
     "duration": 0.047145,
     "end_time": "2021-12-01T22:00:46.741110",
     "exception": false,
     "start_time": "2021-12-01T22:00:46.693965",
     "status": "completed"
    },
    "tags": []
   },
   "outputs": [
    {
     "data": {
      "text/html": [
       "<div>\n",
       "<style scoped>\n",
       "    .dataframe tbody tr th:only-of-type {\n",
       "        vertical-align: middle;\n",
       "    }\n",
       "\n",
       "    .dataframe tbody tr th {\n",
       "        vertical-align: top;\n",
       "    }\n",
       "\n",
       "    .dataframe thead th {\n",
       "        text-align: right;\n",
       "    }\n",
       "</style>\n",
       "<table border=\"1\" class=\"dataframe\">\n",
       "  <thead>\n",
       "    <tr style=\"text-align: right;\">\n",
       "      <th></th>\n",
       "      <th>PassengerId</th>\n",
       "      <th>Survived</th>\n",
       "      <th>Pclass</th>\n",
       "      <th>Sex</th>\n",
       "      <th>Age</th>\n",
       "      <th>SibSp</th>\n",
       "      <th>Parch</th>\n",
       "    </tr>\n",
       "  </thead>\n",
       "  <tbody>\n",
       "    <tr>\n",
       "      <th>886</th>\n",
       "      <td>887</td>\n",
       "      <td>0</td>\n",
       "      <td>2</td>\n",
       "      <td>male</td>\n",
       "      <td>27.0</td>\n",
       "      <td>0</td>\n",
       "      <td>0</td>\n",
       "    </tr>\n",
       "    <tr>\n",
       "      <th>887</th>\n",
       "      <td>888</td>\n",
       "      <td>1</td>\n",
       "      <td>1</td>\n",
       "      <td>female</td>\n",
       "      <td>19.0</td>\n",
       "      <td>0</td>\n",
       "      <td>0</td>\n",
       "    </tr>\n",
       "    <tr>\n",
       "      <th>888</th>\n",
       "      <td>889</td>\n",
       "      <td>0</td>\n",
       "      <td>3</td>\n",
       "      <td>female</td>\n",
       "      <td>NaN</td>\n",
       "      <td>1</td>\n",
       "      <td>2</td>\n",
       "    </tr>\n",
       "    <tr>\n",
       "      <th>889</th>\n",
       "      <td>890</td>\n",
       "      <td>1</td>\n",
       "      <td>1</td>\n",
       "      <td>male</td>\n",
       "      <td>26.0</td>\n",
       "      <td>0</td>\n",
       "      <td>0</td>\n",
       "    </tr>\n",
       "    <tr>\n",
       "      <th>890</th>\n",
       "      <td>891</td>\n",
       "      <td>0</td>\n",
       "      <td>3</td>\n",
       "      <td>male</td>\n",
       "      <td>32.0</td>\n",
       "      <td>0</td>\n",
       "      <td>0</td>\n",
       "    </tr>\n",
       "  </tbody>\n",
       "</table>\n",
       "</div>"
      ],
      "text/plain": [
       "     PassengerId  Survived  Pclass     Sex   Age  SibSp  Parch\n",
       "886          887         0       2    male  27.0      0      0\n",
       "887          888         1       1  female  19.0      0      0\n",
       "888          889         0       3  female   NaN      1      2\n",
       "889          890         1       1    male  26.0      0      0\n",
       "890          891         0       3    male  32.0      0      0"
      ]
     },
     "execution_count": 11,
     "metadata": {},
     "output_type": "execute_result"
    }
   ],
   "source": [
    "train_data.tail()"
   ]
  },
  {
   "cell_type": "markdown",
   "id": "cd45c8c6",
   "metadata": {
    "papermill": {
     "duration": 0.033734,
     "end_time": "2021-12-01T22:00:46.812760",
     "exception": false,
     "start_time": "2021-12-01T22:00:46.779026",
     "status": "completed"
    },
    "tags": []
   },
   "source": [
    "# 5. Feature engineering\n",
    "\n",
    "Although I have eliminated most of the columns for simplicity, in the future I am planning to recover those columns. They may contain some useful information.  \n",
    "For now encoding the `Sex` column and filling `Age` column is enough to run a model."
   ]
  },
  {
   "cell_type": "code",
   "execution_count": 12,
   "id": "1df36622",
   "metadata": {
    "execution": {
     "iopub.execute_input": "2021-12-01T22:00:46.879077Z",
     "iopub.status.busy": "2021-12-01T22:00:46.878384Z",
     "iopub.status.idle": "2021-12-01T22:00:46.890893Z",
     "shell.execute_reply": "2021-12-01T22:00:46.891384Z",
     "shell.execute_reply.started": "2021-12-01T21:22:15.762164Z"
    },
    "papermill": {
     "duration": 0.045616,
     "end_time": "2021-12-01T22:00:46.891555",
     "exception": false,
     "start_time": "2021-12-01T22:00:46.845939",
     "status": "completed"
    },
    "tags": []
   },
   "outputs": [
    {
     "name": "stdout",
     "output_type": "stream",
     "text": [
      "Average Age: 28.0\n"
     ]
    }
   ],
   "source": [
    "train_data['Sex'].replace({'male':0, 'female':1}, inplace=True)\n",
    "test_data['Sex'].replace({'male':0, 'female':1}, inplace=True)\n",
    "\n",
    "# Merge two data to get the average Age and fill the column\n",
    "all_data = pd.concat([train_data, test_data])\n",
    "average = all_data.Age.median()\n",
    "print(\"Average Age: {0}\".format(average))\n",
    "train_data.fillna(value={'Age': average}, inplace=True)\n",
    "test_data.fillna(value={'Age': average}, inplace=True)"
   ]
  },
  {
   "cell_type": "code",
   "execution_count": 13,
   "id": "3a39a0dd",
   "metadata": {
    "_kg_hide-input": true,
    "execution": {
     "iopub.execute_input": "2021-12-01T22:00:46.952614Z",
     "iopub.status.busy": "2021-12-01T22:00:46.952016Z",
     "iopub.status.idle": "2021-12-01T22:00:46.962363Z",
     "shell.execute_reply": "2021-12-01T22:00:46.961906Z",
     "shell.execute_reply.started": "2021-12-01T21:22:15.780386Z"
    },
    "papermill": {
     "duration": 0.042251,
     "end_time": "2021-12-01T22:00:46.962503",
     "exception": false,
     "start_time": "2021-12-01T22:00:46.920252",
     "status": "completed"
    },
    "tags": []
   },
   "outputs": [
    {
     "data": {
      "text/html": [
       "<div>\n",
       "<style scoped>\n",
       "    .dataframe tbody tr th:only-of-type {\n",
       "        vertical-align: middle;\n",
       "    }\n",
       "\n",
       "    .dataframe tbody tr th {\n",
       "        vertical-align: top;\n",
       "    }\n",
       "\n",
       "    .dataframe thead th {\n",
       "        text-align: right;\n",
       "    }\n",
       "</style>\n",
       "<table border=\"1\" class=\"dataframe\">\n",
       "  <thead>\n",
       "    <tr style=\"text-align: right;\">\n",
       "      <th></th>\n",
       "      <th>PassengerId</th>\n",
       "      <th>Survived</th>\n",
       "      <th>Pclass</th>\n",
       "      <th>Sex</th>\n",
       "      <th>Age</th>\n",
       "      <th>SibSp</th>\n",
       "      <th>Parch</th>\n",
       "    </tr>\n",
       "  </thead>\n",
       "  <tbody>\n",
       "    <tr>\n",
       "      <th>886</th>\n",
       "      <td>887</td>\n",
       "      <td>0</td>\n",
       "      <td>2</td>\n",
       "      <td>0</td>\n",
       "      <td>27.0</td>\n",
       "      <td>0</td>\n",
       "      <td>0</td>\n",
       "    </tr>\n",
       "    <tr>\n",
       "      <th>887</th>\n",
       "      <td>888</td>\n",
       "      <td>1</td>\n",
       "      <td>1</td>\n",
       "      <td>1</td>\n",
       "      <td>19.0</td>\n",
       "      <td>0</td>\n",
       "      <td>0</td>\n",
       "    </tr>\n",
       "    <tr>\n",
       "      <th>888</th>\n",
       "      <td>889</td>\n",
       "      <td>0</td>\n",
       "      <td>3</td>\n",
       "      <td>1</td>\n",
       "      <td>28.0</td>\n",
       "      <td>1</td>\n",
       "      <td>2</td>\n",
       "    </tr>\n",
       "    <tr>\n",
       "      <th>889</th>\n",
       "      <td>890</td>\n",
       "      <td>1</td>\n",
       "      <td>1</td>\n",
       "      <td>0</td>\n",
       "      <td>26.0</td>\n",
       "      <td>0</td>\n",
       "      <td>0</td>\n",
       "    </tr>\n",
       "    <tr>\n",
       "      <th>890</th>\n",
       "      <td>891</td>\n",
       "      <td>0</td>\n",
       "      <td>3</td>\n",
       "      <td>0</td>\n",
       "      <td>32.0</td>\n",
       "      <td>0</td>\n",
       "      <td>0</td>\n",
       "    </tr>\n",
       "  </tbody>\n",
       "</table>\n",
       "</div>"
      ],
      "text/plain": [
       "     PassengerId  Survived  Pclass  Sex   Age  SibSp  Parch\n",
       "886          887         0       2    0  27.0      0      0\n",
       "887          888         1       1    1  19.0      0      0\n",
       "888          889         0       3    1  28.0      1      2\n",
       "889          890         1       1    0  26.0      0      0\n",
       "890          891         0       3    0  32.0      0      0"
      ]
     },
     "execution_count": 13,
     "metadata": {},
     "output_type": "execute_result"
    }
   ],
   "source": [
    "train_data.tail()"
   ]
  },
  {
   "cell_type": "markdown",
   "id": "ad0db74c",
   "metadata": {
    "papermill": {
     "duration": 0.029992,
     "end_time": "2021-12-01T22:00:47.021671",
     "exception": false,
     "start_time": "2021-12-01T22:00:46.991679",
     "status": "completed"
    },
    "tags": []
   },
   "source": [
    "# 6. Modelling\n",
    "\n",
    "Try different models with different parameters to understand which models give better results."
   ]
  },
  {
   "cell_type": "code",
   "execution_count": 14,
   "id": "10ff88f4",
   "metadata": {
    "execution": {
     "iopub.execute_input": "2021-12-01T22:00:47.084412Z",
     "iopub.status.busy": "2021-12-01T22:00:47.083743Z",
     "iopub.status.idle": "2021-12-01T22:00:47.089244Z",
     "shell.execute_reply": "2021-12-01T22:00:47.089700Z",
     "shell.execute_reply.started": "2021-12-01T21:22:15.795963Z"
    },
    "papermill": {
     "duration": 0.03873,
     "end_time": "2021-12-01T22:00:47.089890",
     "exception": false,
     "start_time": "2021-12-01T22:00:47.051160",
     "status": "completed"
    },
    "tags": []
   },
   "outputs": [],
   "source": [
    "# Set X and y\n",
    "X = train_data.drop(['Survived', 'PassengerId'], axis=1)\n",
    "y = train_data['Survived']\n",
    "test_X = test_data.drop(['PassengerId'], axis=1)"
   ]
  },
  {
   "cell_type": "code",
   "execution_count": 15,
   "id": "fc070d76",
   "metadata": {
    "_kg_hide-input": true,
    "execution": {
     "iopub.execute_input": "2021-12-01T22:00:47.152118Z",
     "iopub.status.busy": "2021-12-01T22:00:47.151457Z",
     "iopub.status.idle": "2021-12-01T22:00:47.160889Z",
     "shell.execute_reply": "2021-12-01T22:00:47.161405Z",
     "shell.execute_reply.started": "2021-12-01T21:22:15.806149Z"
    },
    "papermill": {
     "duration": 0.04254,
     "end_time": "2021-12-01T22:00:47.161577",
     "exception": false,
     "start_time": "2021-12-01T22:00:47.119037",
     "status": "completed"
    },
    "tags": []
   },
   "outputs": [],
   "source": [
    "# To store models created\n",
    "best_models = {}\n",
    "\n",
    "# Split data\n",
    "train_X, val_X, train_y, val_y = train_test_split(X, y, random_state=1)\n",
    "\n",
    "def print_best_parameters(hyperparameters, best_parameters):\n",
    "    value = \"Best parameters: \"\n",
    "    for key in hyperparameters:\n",
    "        value += str(key) + \": \" + str(best_parameters[key]) + \", \"\n",
    "    if hyperparameters:\n",
    "        print(value[:-2])\n",
    "\n",
    "def get_best_model(estimator, hyperparameters):\n",
    "    cv = RepeatedStratifiedKFold(n_splits=10, n_repeats=3, random_state=1)\n",
    "    grid_search = GridSearchCV(estimator=estimator, param_grid=hyperparameters, n_jobs=-1, cv=cv, scoring=\"accuracy\")\n",
    "    best_model = grid_search.fit(train_X, train_y)\n",
    "    best_parameters = best_model.best_estimator_.get_params()\n",
    "    print_best_parameters(hyperparameters, best_parameters)\n",
    "    return best_model\n",
    "\n",
    "def evaluate_model(model, name):\n",
    "    print(\"Accuracy score:\", accuracy_score(train_y, model.predict(train_X)))\n",
    "    best_models[name] = model"
   ]
  },
  {
   "cell_type": "code",
   "execution_count": 16,
   "id": "74c21b21",
   "metadata": {
    "_kg_hide-input": true,
    "execution": {
     "iopub.execute_input": "2021-12-01T22:00:47.226529Z",
     "iopub.status.busy": "2021-12-01T22:00:47.225727Z",
     "iopub.status.idle": "2021-12-01T22:00:47.228061Z",
     "shell.execute_reply": "2021-12-01T22:00:47.228580Z",
     "shell.execute_reply.started": "2021-12-01T21:22:15.820132Z"
    },
    "papermill": {
     "duration": 0.036933,
     "end_time": "2021-12-01T22:00:47.228734",
     "exception": false,
     "start_time": "2021-12-01T22:00:47.191801",
     "status": "completed"
    },
    "tags": []
   },
   "outputs": [
    {
     "name": "stdout",
     "output_type": "stream",
     "text": [
      "Features: \n",
      "['Pclass', 'Sex', 'Age', 'SibSp', 'Parch'] \n"
     ]
    }
   ],
   "source": [
    "print(\"Features: \\n{0} \".format(X.columns.tolist()))"
   ]
  },
  {
   "cell_type": "markdown",
   "id": "5b72bec6",
   "metadata": {
    "papermill": {
     "duration": 0.0294,
     "end_time": "2021-12-01T22:00:47.287810",
     "exception": false,
     "start_time": "2021-12-01T22:00:47.258410",
     "status": "completed"
    },
    "tags": []
   },
   "source": [
    "## [Logistic Regression](https://scikit-learn.org/stable/modules/generated/sklearn.linear_model.LogisticRegression.html)\n",
    "\n",
    "Tune the logistic regression model by changing some of its parameters.\n",
    "\n",
    "Logistic regression parameters:  \n",
    "\n",
    "* **solver: {‘newton-cg’, ‘lbfgs’, ‘liblinear’, ‘sag’, ‘saga’}, default=’lbfgs’**  \n",
    "    * Algorithm to use in the optimization problem. Default is ‘lbfgs’. To choose a solver, you might want to consider the following aspects:\n",
    "        * For small datasets, ‘liblinear’ is a good choice, whereas ‘sag’ and ‘saga’ are faster for large ones;\n",
    "        * For multiclass problems, only ‘newton-cg’, ‘sag’, ‘saga’ and ‘lbfgs’ handle multinomial loss;\n",
    "        * ‘liblinear’ is limited to one-versus-rest schemes.\n",
    "\n",
    "> **Warning**  \n",
    "> The choice of the algorithm depends on the penalty chosen: Supported penalties by solver:  \n",
    "> * ‘newton-cg’ - [‘l2’, ‘none’]  \n",
    "> * ‘lbfgs’ - [‘l2’, ‘none’]  \n",
    "> * ‘liblinear’ - [‘l1’, ‘l2’]  \n",
    "> * ‘sag’ - [‘l2’, ‘none’]  \n",
    "> * ‘saga’ - [‘elasticnet’, ‘l1’, ‘l2’, ‘none’]  \n",
    "\n",
    "* **penalty: {‘l1’, ‘l2’, ‘elasticnet’, ‘none’}, default=’l2’**  \n",
    "    * Specify the norm of the penalty:\n",
    "        * 'none': no penalty is added;\n",
    "        * 'l2': add a L2 penalty term and it is the default choice;\n",
    "        * 'l1': add a L1 penalty term;\n",
    "        * 'elasticnet': both L1 and L2 penalty terms are added.\n",
    "\n",
    "> **Warning**  \n",
    "> Some penalties may not work with some solvers. See the parameter solver below, to know the compatibility between the penalty and solver. \n",
    "\n",
    "* **C: float, default=1.0**  \n",
    "    Inverse of regularization strength; must be a positive float. Like in support vector machines, smaller values specify stronger regularization.\n"
   ]
  },
  {
   "cell_type": "code",
   "execution_count": 17,
   "id": "27dfbeb0",
   "metadata": {
    "execution": {
     "iopub.execute_input": "2021-12-01T22:00:47.350226Z",
     "iopub.status.busy": "2021-12-01T22:00:47.349608Z",
     "iopub.status.idle": "2021-12-01T22:00:52.478938Z",
     "shell.execute_reply": "2021-12-01T22:00:52.479929Z",
     "shell.execute_reply.started": "2021-12-01T21:22:15.831594Z"
    },
    "papermill": {
     "duration": 5.162154,
     "end_time": "2021-12-01T22:00:52.480103",
     "exception": false,
     "start_time": "2021-12-01T22:00:47.317949",
     "status": "completed"
    },
    "tags": []
   },
   "outputs": [
    {
     "name": "stdout",
     "output_type": "stream",
     "text": [
      "Best parameters: solver: liblinear, penalty: l2, C: 0.1\n"
     ]
    }
   ],
   "source": [
    "# https://machinelearningmastery.com/hyperparameters-for-classification-machine-learning-algorithms/\n",
    "hyperparameters = {\n",
    "    'solver'  : ['newton-cg', 'lbfgs', 'liblinear'],\n",
    "    'penalty' : ['l2'],\n",
    "    'C'       : [100, 10, 1.0, 0.1, 0.01]\n",
    "}\n",
    "estimator = LogisticRegression(random_state=1)\n",
    "best_model_logistic = get_best_model(estimator, hyperparameters)"
   ]
  },
  {
   "cell_type": "code",
   "execution_count": 18,
   "id": "bc63a608",
   "metadata": {
    "_kg_hide-input": true,
    "execution": {
     "iopub.execute_input": "2021-12-01T22:00:52.543428Z",
     "iopub.status.busy": "2021-12-01T22:00:52.542446Z",
     "iopub.status.idle": "2021-12-01T22:00:52.549615Z",
     "shell.execute_reply": "2021-12-01T22:00:52.550096Z",
     "shell.execute_reply.started": "2021-12-01T21:22:21.319008Z"
    },
    "papermill": {
     "duration": 0.040774,
     "end_time": "2021-12-01T22:00:52.550265",
     "exception": false,
     "start_time": "2021-12-01T22:00:52.509491",
     "status": "completed"
    },
    "tags": []
   },
   "outputs": [
    {
     "name": "stdout",
     "output_type": "stream",
     "text": [
      "Accuracy score: 0.8083832335329342\n"
     ]
    }
   ],
   "source": [
    "evaluate_model(best_model_logistic.best_estimator_, 'logistic')"
   ]
  },
  {
   "cell_type": "markdown",
   "id": "c9369d9a",
   "metadata": {
    "papermill": {
     "duration": 0.030491,
     "end_time": "2021-12-01T22:00:52.610682",
     "exception": false,
     "start_time": "2021-12-01T22:00:52.580191",
     "status": "completed"
    },
    "tags": []
   },
   "source": [
    "## [Naive Bayes](https://scikit-learn.org/stable/modules/naive_bayes.html)\n"
   ]
  },
  {
   "cell_type": "code",
   "execution_count": 19,
   "id": "18d135f6",
   "metadata": {
    "execution": {
     "iopub.execute_input": "2021-12-01T22:00:52.675723Z",
     "iopub.status.busy": "2021-12-01T22:00:52.674784Z",
     "iopub.status.idle": "2021-12-01T22:00:52.678359Z",
     "shell.execute_reply": "2021-12-01T22:00:52.678922Z",
     "shell.execute_reply.started": "2021-12-01T21:22:21.327497Z"
    },
    "papermill": {
     "duration": 0.037679,
     "end_time": "2021-12-01T22:00:52.679093",
     "exception": false,
     "start_time": "2021-12-01T22:00:52.641414",
     "status": "completed"
    },
    "tags": []
   },
   "outputs": [],
   "source": [
    "# Not sure which parameters to play with :)\n",
    "hyperparameters = {}"
   ]
  },
  {
   "cell_type": "markdown",
   "id": "894eb0f9",
   "metadata": {
    "papermill": {
     "duration": 0.031998,
     "end_time": "2021-12-01T22:00:52.741596",
     "exception": false,
     "start_time": "2021-12-01T22:00:52.709598",
     "status": "completed"
    },
    "tags": []
   },
   "source": [
    "### [Gaussian Naive Bayes](https://scikit-learn.org/stable/modules/naive_bayes.html#gaussian-naive-bayes)"
   ]
  },
  {
   "cell_type": "code",
   "execution_count": 20,
   "id": "d6d01529",
   "metadata": {
    "_kg_hide-input": true,
    "execution": {
     "iopub.execute_input": "2021-12-01T22:00:52.807644Z",
     "iopub.status.busy": "2021-12-01T22:00:52.806533Z",
     "iopub.status.idle": "2021-12-01T22:00:52.927283Z",
     "shell.execute_reply": "2021-12-01T22:00:52.927706Z",
     "shell.execute_reply.started": "2021-12-01T21:22:21.340762Z"
    },
    "papermill": {
     "duration": 0.154691,
     "end_time": "2021-12-01T22:00:52.927898",
     "exception": false,
     "start_time": "2021-12-01T22:00:52.773207",
     "status": "completed"
    },
    "tags": []
   },
   "outputs": [
    {
     "name": "stdout",
     "output_type": "stream",
     "text": [
      "Accuracy score: 0.7874251497005988\n"
     ]
    }
   ],
   "source": [
    "evaluate_model(get_best_model(GaussianNB(), hyperparameters).best_estimator_, 'gaussian_nb')"
   ]
  },
  {
   "cell_type": "markdown",
   "id": "2d37d69e",
   "metadata": {
    "papermill": {
     "duration": 0.029469,
     "end_time": "2021-12-01T22:00:52.987427",
     "exception": false,
     "start_time": "2021-12-01T22:00:52.957958",
     "status": "completed"
    },
    "tags": []
   },
   "source": [
    "### [Multinomial Naive Bayes](https://scikit-learn.org/stable/modules/naive_bayes.html#multinomial-naive-bayes)"
   ]
  },
  {
   "cell_type": "code",
   "execution_count": 21,
   "id": "9960ad7d",
   "metadata": {
    "_kg_hide-input": true,
    "execution": {
     "iopub.execute_input": "2021-12-01T22:00:53.050738Z",
     "iopub.status.busy": "2021-12-01T22:00:53.050161Z",
     "iopub.status.idle": "2021-12-01T22:00:53.160399Z",
     "shell.execute_reply": "2021-12-01T22:00:53.160813Z",
     "shell.execute_reply.started": "2021-12-01T21:22:21.468952Z"
    },
    "papermill": {
     "duration": 0.143667,
     "end_time": "2021-12-01T22:00:53.161028",
     "exception": false,
     "start_time": "2021-12-01T22:00:53.017361",
     "status": "completed"
    },
    "tags": []
   },
   "outputs": [
    {
     "name": "stdout",
     "output_type": "stream",
     "text": [
      "Accuracy score: 0.7904191616766467\n"
     ]
    }
   ],
   "source": [
    "evaluate_model(get_best_model(MultinomialNB(), hyperparameters).best_estimator_, 'multinominal_nb')"
   ]
  },
  {
   "cell_type": "markdown",
   "id": "23f72ed5",
   "metadata": {
    "papermill": {
     "duration": 0.030027,
     "end_time": "2021-12-01T22:00:53.221303",
     "exception": false,
     "start_time": "2021-12-01T22:00:53.191276",
     "status": "completed"
    },
    "tags": []
   },
   "source": [
    "### [Complement Naive Bayes](https://scikit-learn.org/stable/modules/naive_bayes.html#complement-naive-bayes)"
   ]
  },
  {
   "cell_type": "code",
   "execution_count": 22,
   "id": "9a1c16b2",
   "metadata": {
    "_kg_hide-input": true,
    "execution": {
     "iopub.execute_input": "2021-12-01T22:00:53.285670Z",
     "iopub.status.busy": "2021-12-01T22:00:53.285094Z",
     "iopub.status.idle": "2021-12-01T22:00:53.397933Z",
     "shell.execute_reply": "2021-12-01T22:00:53.398390Z",
     "shell.execute_reply.started": "2021-12-01T21:22:21.604287Z"
    },
    "papermill": {
     "duration": 0.146844,
     "end_time": "2021-12-01T22:00:53.398571",
     "exception": false,
     "start_time": "2021-12-01T22:00:53.251727",
     "status": "completed"
    },
    "tags": []
   },
   "outputs": [
    {
     "name": "stdout",
     "output_type": "stream",
     "text": [
      "Accuracy score: 0.7889221556886228\n"
     ]
    }
   ],
   "source": [
    "evaluate_model(get_best_model(ComplementNB(), hyperparameters).best_estimator_, 'complement_nb')"
   ]
  },
  {
   "cell_type": "markdown",
   "id": "077228b9",
   "metadata": {
    "papermill": {
     "duration": 0.030311,
     "end_time": "2021-12-01T22:00:53.459558",
     "exception": false,
     "start_time": "2021-12-01T22:00:53.429247",
     "status": "completed"
    },
    "tags": []
   },
   "source": [
    "### [Bernoulli Naive Bayes](https://scikit-learn.org/stable/modules/naive_bayes.html#bernoulli-naive-bayes)"
   ]
  },
  {
   "cell_type": "code",
   "execution_count": 23,
   "id": "2c7b8f7a",
   "metadata": {
    "_kg_hide-input": true,
    "execution": {
     "iopub.execute_input": "2021-12-01T22:00:53.527123Z",
     "iopub.status.busy": "2021-12-01T22:00:53.526028Z",
     "iopub.status.idle": "2021-12-01T22:00:53.643518Z",
     "shell.execute_reply": "2021-12-01T22:00:53.644166Z",
     "shell.execute_reply.started": "2021-12-01T21:22:21.734489Z"
    },
    "papermill": {
     "duration": 0.15395,
     "end_time": "2021-12-01T22:00:53.644337",
     "exception": false,
     "start_time": "2021-12-01T22:00:53.490387",
     "status": "completed"
    },
    "tags": []
   },
   "outputs": [
    {
     "name": "stdout",
     "output_type": "stream",
     "text": [
      "Accuracy score: 0.7874251497005988\n"
     ]
    }
   ],
   "source": [
    "evaluate_model(get_best_model(BernoulliNB(), hyperparameters).best_estimator_, 'bernoulli_nb')"
   ]
  },
  {
   "cell_type": "markdown",
   "id": "9b3289c6",
   "metadata": {
    "papermill": {
     "duration": 0.030183,
     "end_time": "2021-12-01T22:00:53.705946",
     "exception": false,
     "start_time": "2021-12-01T22:00:53.675763",
     "status": "completed"
    },
    "tags": []
   },
   "source": [
    "## [K-nearest neighbors](https://scikit-learn.org/stable/modules/generated/sklearn.neighbors.KNeighborsClassifier.html)\n",
    "\n",
    "Tune k-nearest neighbors model by changing some of its parameters.\n",
    "\n",
    "* **n_neighbors: int, default=5**  \n",
    "    Number of neighbors to use by default for kneighbors queries.\n",
    "\n",
    "\n",
    "* **weights: {‘uniform’, ‘distance’} or callable, default=’uniform’**  \n",
    "    * Weight function used in prediction. Possible values:\n",
    "        * ‘uniform’ : uniform weights. All points in each neighborhood are weighted equally.\n",
    "        * ‘distance’ : weight points by the inverse of their distance. in this case, closer neighbors of a query point will have a greater influence than neighbors which are further away.\n",
    "        * [callable] : a user-defined function which accepts an array of distances, and returns an array of the same shape containing the weights.\n",
    "\n",
    "\n",
    "* **algorithm: {‘auto’, ‘ball_tree’, ‘kd_tree’, ‘brute’}, default=’auto’**  \n",
    "    * Algorithm used to compute the nearest neighbors:  \n",
    "        * ‘ball_tree’ will use BallTree\n",
    "        * ‘kd_tree’ will use KDTree\n",
    "        * ‘brute’ will use a brute-force search.\n",
    "        * ‘auto’ will attempt to decide the most appropriate algorithm based on the values passed to fit method.\n",
    "        \n",
    "> Note: fitting on sparse input will override the setting of this parameter, using brute force.\n",
    "\n",
    "\n",
    "* **leaf_size: int, default=30**  \n",
    "    Leaf size passed to BallTree or KDTree. This can affect the speed of the construction and query, as well as the memory required to store the tree. The optimal value depends on the nature of the problem.\n",
    "    \n",
    "* **p: int, default=2**  \n",
    "    Power parameter for the Minkowski metric. When p = 1, this is equivalent to using manhattan_distance (l1), and euclidean_distance (l2) for p = 2. For arbitrary p, minkowski_distance (l_p) is used.\n",
    "\n",
    "* **n_neighbors: int, default=5**  \n",
    "    Number of neighbors to use by default for kneighbors queries."
   ]
  },
  {
   "cell_type": "code",
   "execution_count": 24,
   "id": "2f0a9b29",
   "metadata": {
    "execution": {
     "iopub.execute_input": "2021-12-01T22:00:53.774435Z",
     "iopub.status.busy": "2021-12-01T22:00:53.773758Z",
     "iopub.status.idle": "2021-12-01T22:01:42.133214Z",
     "shell.execute_reply": "2021-12-01T22:01:42.133691Z",
     "shell.execute_reply.started": "2021-12-01T21:22:21.862286Z"
    },
    "papermill": {
     "duration": 48.396898,
     "end_time": "2021-12-01T22:01:42.133859",
     "exception": false,
     "start_time": "2021-12-01T22:00:53.736961",
     "status": "completed"
    },
    "tags": []
   },
   "outputs": [
    {
     "name": "stdout",
     "output_type": "stream",
     "text": [
      "Best parameters: n_neighbors: 3, weights: uniform, algorithm: brute, leaf_size: 1, p: 1\n"
     ]
    }
   ],
   "source": [
    "# https://medium.datadriveninvestor.com/k-nearest-neighbors-in-python-hyperparameters-tuning-716734bc557f\n",
    "hyperparameters = {\n",
    "    'n_neighbors' : list(range(1,5)),\n",
    "    'weights'     : ['uniform', 'distance'],\n",
    "    'algorithm'   : ['auto', 'ball_tree', 'kd_tree', 'brute'],\n",
    "    'leaf_size'   : list(range(1,10)),\n",
    "    'p'           : [1,2]\n",
    "}\n",
    "estimator = KNeighborsClassifier()\n",
    "best_model_kneighbors = get_best_model(estimator, hyperparameters)"
   ]
  },
  {
   "cell_type": "code",
   "execution_count": 25,
   "id": "6cbf05c7",
   "metadata": {
    "_kg_hide-input": true,
    "execution": {
     "iopub.execute_input": "2021-12-01T22:01:42.202011Z",
     "iopub.status.busy": "2021-12-01T22:01:42.201398Z",
     "iopub.status.idle": "2021-12-01T22:01:42.232482Z",
     "shell.execute_reply": "2021-12-01T22:01:42.231970Z",
     "shell.execute_reply.started": "2021-12-01T21:23:10.511439Z"
    },
    "papermill": {
     "duration": 0.068007,
     "end_time": "2021-12-01T22:01:42.232629",
     "exception": false,
     "start_time": "2021-12-01T22:01:42.164622",
     "status": "completed"
    },
    "tags": []
   },
   "outputs": [
    {
     "name": "stdout",
     "output_type": "stream",
     "text": [
      "Accuracy score: 0.8802395209580839\n"
     ]
    }
   ],
   "source": [
    "evaluate_model(best_model_kneighbors.best_estimator_, 'kneighbors')"
   ]
  },
  {
   "cell_type": "markdown",
   "id": "a27d1d39",
   "metadata": {
    "papermill": {
     "duration": 0.030834,
     "end_time": "2021-12-01T22:01:42.295176",
     "exception": false,
     "start_time": "2021-12-01T22:01:42.264342",
     "status": "completed"
    },
    "tags": []
   },
   "source": [
    "## [Decision Tree Classifier](https://scikit-learn.org/stable/modules/generated/sklearn.tree.DecisionTreeClassifier.html)\n",
    "\n",
    "Tune decision tree classifier model by changing some of its parameters.\n",
    "\n",
    "* **criterion: {“gini”, “entropy”}, default=”gini”**  \n",
    "    The function to measure the quality of a split. Supported criteria are “gini” for the Gini impurity and “entropy” for the information gain.\n",
    "\n",
    "* **splitter: {“best”, “random”}, default=”best”**  \n",
    "    The strategy used to choose the split at each node. Supported strategies are “best” to choose the best split and “random” to choose the best random split.\n",
    "\n",
    "* **max_depth: int, default=None**  \n",
    "    The maximum depth of the tree. If None, then nodes are expanded until all leaves are pure or until all leaves contain less than min_samples_split samples.\n",
    "    \n",
    "\n",
    "* **min_samples_split: int or float, default=2**  \n",
    "    * The minimum number of samples required to split an internal node:\n",
    "        * If int, then consider min_samples_split as the minimum number.\n",
    "        * If float, then min_samples_split is a fraction and ceil(min_samples_split * n_samples) are the minimum number of samples for each split.\n",
    "\n",
    "\n",
    "* **min_samples_leaf: int or float, default=1**  \n",
    "   The minimum number of samples required to be at a leaf node. A split point at any depth will only be considered if it leaves at least min_samples_leaf training samples in each of the left and right branches. This may have the effect of smoothing the model, especially in regression.  \n",
    "    * If int, then consider min_samples_leaf as the minimum number.\n",
    "    * If float, then min_samples_leaf is a fraction and ceil(min_samples_leaf * n_samples) are the minimum number of samples for each node."
   ]
  },
  {
   "cell_type": "code",
   "execution_count": 26,
   "id": "7c54c7f5",
   "metadata": {
    "execution": {
     "iopub.execute_input": "2021-12-01T22:01:42.360909Z",
     "iopub.status.busy": "2021-12-01T22:01:42.359966Z",
     "iopub.status.idle": "2021-12-01T22:01:59.483322Z",
     "shell.execute_reply": "2021-12-01T22:01:59.483765Z",
     "shell.execute_reply.started": "2021-12-01T21:50:34.698147Z"
    },
    "papermill": {
     "duration": 17.157797,
     "end_time": "2021-12-01T22:01:59.483965",
     "exception": false,
     "start_time": "2021-12-01T22:01:42.326168",
     "status": "completed"
    },
    "tags": []
   },
   "outputs": [
    {
     "name": "stdout",
     "output_type": "stream",
     "text": [
      "Best parameters: criterion: gini, splitter: best, max_depth: 4, min_samples_split: 2, min_samples_leaf: 3\n"
     ]
    }
   ],
   "source": [
    "# https://towardsdatascience.com/how-to-tune-a-decision-tree-f03721801680\n",
    "# https://www.kaggle.com/gauravduttakiit/hyperparameter-tuning-in-decision-trees\n",
    "hyperparameters = {\n",
    "    'criterion'         : ['gini', 'entropy'],\n",
    "    'splitter'          : ['best', 'random'],\n",
    "    'max_depth'         : [None, 1, 2, 3, 4, 5],\n",
    "    'min_samples_split' : list(range(2,5)),\n",
    "    'min_samples_leaf'  : list(range(1,5))\n",
    "}\n",
    "estimator = DecisionTreeClassifier(random_state=1)\n",
    "best_model_decision_tree = get_best_model(estimator, hyperparameters)"
   ]
  },
  {
   "cell_type": "code",
   "execution_count": 27,
   "id": "2e5bdfff",
   "metadata": {
    "_kg_hide-input": true,
    "execution": {
     "iopub.execute_input": "2021-12-01T22:01:59.552905Z",
     "iopub.status.busy": "2021-12-01T22:01:59.552295Z",
     "iopub.status.idle": "2021-12-01T22:01:59.556480Z",
     "shell.execute_reply": "2021-12-01T22:01:59.557044Z",
     "shell.execute_reply.started": "2021-12-01T21:50:36.298059Z"
    },
    "papermill": {
     "duration": 0.041614,
     "end_time": "2021-12-01T22:01:59.557219",
     "exception": false,
     "start_time": "2021-12-01T22:01:59.515605",
     "status": "completed"
    },
    "tags": []
   },
   "outputs": [
    {
     "name": "stdout",
     "output_type": "stream",
     "text": [
      "Accuracy score: 0.8502994011976048\n"
     ]
    }
   ],
   "source": [
    "evaluate_model(best_model_decision_tree.best_estimator_, 'decision_tree')"
   ]
  },
  {
   "cell_type": "markdown",
   "id": "1fb7dde6",
   "metadata": {
    "papermill": {
     "duration": 0.0317,
     "end_time": "2021-12-01T22:01:59.620441",
     "exception": false,
     "start_time": "2021-12-01T22:01:59.588741",
     "status": "completed"
    },
    "tags": []
   },
   "source": [
    "## [Random Forest Classifier](https://scikit-learn.org/stable/modules/generated/sklearn.ensemble.RandomForestClassifier.html)\n",
    "\n",
    "* **n_estimators: int, default=100**  \n",
    "    The number of trees in the forest.\n",
    "\n",
    "\n",
    "* **max_features: {“auto”, “sqrt”, “log2”}, int or float, default=”auto”**  \n",
    "    * The number of features to consider when looking for the best split:\n",
    "        * If int, then consider max_features features at each split.\n",
    "        * If float, then max_features is a fraction and round(max_features * n_features) features are considered at each split.\n",
    "        * If “auto”, then max_features=sqrt(n_features).\n",
    "        * If “sqrt”, then max_features=sqrt(n_features) (same as “auto”).\n",
    "        * If “log2”, then max_features=log2(n_features).\n",
    "        * If None, then max_features=n_features.\n",
    "\n",
    "> Note: the search for a split does not stop until at least one valid partition of the node samples is found, even if it requires to effectively inspect more than max_features features.\n",
    "\n",
    "* **criterion: {“gini”, “entropy”}, default=”gini”**  \n",
    "    The function to measure the quality of a split. Supported criteria are “gini” for the Gini impurity and “entropy” for the information gain. Note: this parameter is tree-specific.\n",
    "\n",
    "* **max_depth: int, default=None**  \n",
    "    The maximum depth of the tree. If None, then nodes are expanded until all leaves are pure or until all leaves contain less than min_samples_split samples.\n",
    "    \n",
    "    \n",
    "* **min_samples_split: int or float, default=2**  \n",
    "    * The minimum number of samples required to split an internal node:\n",
    "        * If int, then consider min_samples_split as the minimum number.\n",
    "        * If float, then min_samples_split is a fraction and ceil(min_samples_split * n_samples) are the minimum number of samples for each split.\n",
    "\n",
    "\n",
    "* **min_samples_leaf: int or float, default=1**  \n",
    "    The minimum number of samples required to be at a leaf node. A split point at any depth will only be considered if it leaves at least min_samples_leaf training samples in each of the left and right branches. This may have the effect of smoothing the model, especially in regression.  \n",
    "     * If int, then consider min_samples_leaf as the minimum number.\n",
    "     * If float, then min_samples_leaf is a fraction and ceil(min_samples_leaf * n_samples) are the minimum number of samples for each node."
   ]
  },
  {
   "cell_type": "code",
   "execution_count": 28,
   "id": "9fb24d1d",
   "metadata": {
    "execution": {
     "iopub.execute_input": "2021-12-01T22:01:59.688695Z",
     "iopub.status.busy": "2021-12-01T22:01:59.688062Z",
     "iopub.status.idle": "2021-12-01T22:18:33.219828Z",
     "shell.execute_reply": "2021-12-01T22:18:33.220391Z",
     "shell.execute_reply.started": "2021-12-01T21:50:18.839278Z"
    },
    "papermill": {
     "duration": 993.567324,
     "end_time": "2021-12-01T22:18:33.220755",
     "exception": false,
     "start_time": "2021-12-01T22:01:59.653431",
     "status": "completed"
    },
    "tags": []
   },
   "outputs": [
    {
     "name": "stdout",
     "output_type": "stream",
     "text": [
      "Best parameters: n_estimators: 20, max_features: auto, criterion: gini, max_depth: 4, min_samples_split: 2, min_samples_leaf: 3\n"
     ]
    }
   ],
   "source": [
    "# https://towardsdatascience.com/hyperparameter-tuning-the-random-forest-in-python-using-scikit-learn-28d2aa77dd74\n",
    "# https://www.analyticsvidhya.com/blog/2020/03/beginners-guide-random-forest-hyperparameter-tuning/\n",
    "hyperparameters = {\n",
    "    'n_estimators'      : list(range(10, 50, 10)),\n",
    "    'max_features'      : ['auto', 'sqrt', 'log2'],\n",
    "    'criterion'         : ['gini', 'entropy'],\n",
    "    'max_depth'         : [None, 1, 2, 3, 4, 5],\n",
    "    'min_samples_split' : list(range(2,5)),\n",
    "    'min_samples_leaf'  : list(range(1,5))\n",
    "}\n",
    "estimator = RandomForestClassifier(random_state=1)\n",
    "best_model_random_forest = get_best_model(estimator, hyperparameters)"
   ]
  },
  {
   "cell_type": "code",
   "execution_count": 29,
   "id": "c86d5526",
   "metadata": {
    "execution": {
     "iopub.execute_input": "2021-12-01T22:18:33.293065Z",
     "iopub.status.busy": "2021-12-01T22:18:33.292370Z",
     "iopub.status.idle": "2021-12-01T22:18:33.299500Z",
     "shell.execute_reply": "2021-12-01T22:18:33.300117Z",
     "shell.execute_reply.started": "2021-12-01T21:50:24.500121Z"
    },
    "papermill": {
     "duration": 0.047247,
     "end_time": "2021-12-01T22:18:33.300288",
     "exception": false,
     "start_time": "2021-12-01T22:18:33.253041",
     "status": "completed"
    },
    "tags": []
   },
   "outputs": [
    {
     "name": "stdout",
     "output_type": "stream",
     "text": [
      "Accuracy score: 0.8502994011976048\n"
     ]
    }
   ],
   "source": [
    "evaluate_model(best_model_random_forest.best_estimator_, 'random_forest')"
   ]
  },
  {
   "cell_type": "markdown",
   "id": "078f42d1",
   "metadata": {
    "papermill": {
     "duration": 0.031622,
     "end_time": "2021-12-01T22:18:33.364626",
     "exception": false,
     "start_time": "2021-12-01T22:18:33.333004",
     "status": "completed"
    },
    "tags": []
   },
   "source": [
    "# WORK IN PROGRESS"
   ]
  },
  {
   "cell_type": "markdown",
   "id": "b2b1fdf6",
   "metadata": {
    "papermill": {
     "duration": 0.03203,
     "end_time": "2021-12-01T22:18:33.429400",
     "exception": false,
     "start_time": "2021-12-01T22:18:33.397370",
     "status": "completed"
    },
    "tags": []
   },
   "source": [
    "# 7. Submission"
   ]
  },
  {
   "cell_type": "code",
   "execution_count": 30,
   "id": "527fe3ab",
   "metadata": {
    "execution": {
     "iopub.execute_input": "2021-12-01T22:18:33.503568Z",
     "iopub.status.busy": "2021-12-01T22:18:33.502941Z",
     "iopub.status.idle": "2021-12-01T22:18:33.548168Z",
     "shell.execute_reply": "2021-12-01T22:18:33.547634Z",
     "shell.execute_reply.started": "2021-12-01T21:27:23.405999Z"
    },
    "papermill": {
     "duration": 0.08638,
     "end_time": "2021-12-01T22:18:33.548317",
     "exception": false,
     "start_time": "2021-12-01T22:18:33.461937",
     "status": "completed"
    },
    "tags": []
   },
   "outputs": [],
   "source": [
    "# Get predictions for each model and create submission files\n",
    "for model in best_models:\n",
    "    predictions = best_models[model].predict(test_X)\n",
    "    output = pd.DataFrame({'PassengerId': test_data.PassengerId, 'Survived': predictions})\n",
    "    output.to_csv('submission_' + model + '.csv', index=False)"
   ]
  }
 ],
 "metadata": {
  "kernelspec": {
   "display_name": "Python 3",
   "language": "python",
   "name": "python3"
  },
  "language_info": {
   "codemirror_mode": {
    "name": "ipython",
    "version": 3
   },
   "file_extension": ".py",
   "mimetype": "text/x-python",
   "name": "python",
   "nbconvert_exporter": "python",
   "pygments_lexer": "ipython3",
   "version": "3.7.10"
  },
  "papermill": {
   "default_parameters": {},
   "duration": 1078.182249,
   "end_time": "2021-12-01T22:18:34.295335",
   "environment_variables": {},
   "exception": null,
   "input_path": "__notebook__.ipynb",
   "output_path": "__notebook__.ipynb",
   "parameters": {},
   "start_time": "2021-12-01T22:00:36.113086",
   "version": "2.3.3"
  }
 },
 "nbformat": 4,
 "nbformat_minor": 5
}
